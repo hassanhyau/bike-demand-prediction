{
 "cells": [
  {
   "cell_type": "markdown",
   "id": "d209b513",
   "metadata": {},
   "source": [
    "# Using the CRISP-DM Method for MLN601 (Machine Learning)\n",
    "\n",
    "\n",
    "## Assessment 3: ML Project \n",
    "\n",
    "#### By: Hassan Ya'u Hamisu - A00133000\n",
    "\n",
    "##### Due Date: Wednesday, 21/08/2024 @ 11:55 PM\n",
    "\n",
    "\n",
    "\n"
   ]
  },
  {
   "cell_type": "markdown",
   "id": "e2541fe3",
   "metadata": {},
   "source": [
    "# Stage 1: Business Understandig"
   ]
  },
  {
   "cell_type": "markdown",
   "id": "046ef63d",
   "metadata": {},
   "source": [
    "## 1.1 Determining Business Objectives"
   ]
  },
  {
   "cell_type": "markdown",
   "id": "0d33b96a",
   "metadata": {},
   "source": [
    "### 1.1.1 Background\n",
    "Bike-sharing systems have gained significant traction in urban areas as a sustainable and convenient means of transportation. Predicting bike rental demand is crucial for optimizing the allocation of bikes, ensuring availability, improving overall operational efficiency, and satisfying customers’ needs (Torrens University, 2024).\n",
    "\n",
    "Factors affecting bike share ridership in Toronto, Canada was conducted, utilizing year-round trip data, the research highlights the impact of socio-demographic attributes, land use, built environment, and weather on bike-sharing demand. It reveals that road network configuration, bike infrastructure, and temperature significantly influence ridership (El-Assi et al., 2017).\n",
    "\n",
    "\n",
    "\n",
    "### 1.1.2 Business Objectives\n",
    "Machine learning, a subset of Artificial Intelligence, has significantly enhanced inventory automation, cutting costs associated with misplaced items by 40% to 60% (Bokrantz et al., 2023). However, without meticulous planning, execution, and ongoing oversight of the AI model, achieving success remains uncertain, as 75 to 85 percent of ML projects fail to fulfill their sponsors' expectations (Studer et al., 2021). Presently, CRISP-DM stands as the most effective methodology for managing ML projects (Studer et al., 2021), and it will be utilized to ensure the success of this project. \n",
    "\n",
    "<br>\n",
    "The data for this project, sourced from (Hadi, 2009), includes datasets of a bike-sharing company called Capital-Bikeshare15 in Washington D.C. including the weather and seasonal information. The project will be structured around the CRISP-DM phases: Business Understanding, Data Understanding, Data Preparation, Modeling, Evaluation, and Deployment (Leaper, 2024).\n",
    "<br>\n",
    "\n",
    "The primary objective is to develop a robust predictive model that accurately forecasts daily bike rental demand based on historical data, weather conditions, calendar information, and user type, aiding in efficient bike distribution and minimizing shortages or surpluses at docking stations.\n",
    "<br>\n",
    "\n",
    "To achieve the optimal model and avoid the bias associated with relying on a single technique, I will develop four distinct models using four different algorithms, compare their performances, and select the best one.\n",
    "\n",
    "### 1.1.3 Business Success Criteria\n",
    "Success will be evaluated by the accuracy of the selected predictive model, reflected by metrics such as Mean Absolute Error (MAE), R-squared as a Percentage & Mean Absolute Percentage Error (MAPE), and its ability to improve resource allocation, leading to increased satisfaction among stakeholders (customers, entrepreneurs, and government) and enhanced operational efficiency. These daily model predictions help us identify peak usage days.\n"
   ]
  },
  {
   "cell_type": "markdown",
   "id": "698870fe",
   "metadata": {},
   "source": [
    "## 1.2 Assessing Situation"
   ]
  },
  {
   "cell_type": "markdown",
   "id": "b26bec53",
   "metadata": {},
   "source": [
    "### 1.2.1 Inventory of Resources, Requirements, Assumptions, and Constraints\n",
    "Blomster and Koivumäki (2022) emphasize that every entity needs diverse resources, capabilities, and competencies to advance a machine-learning project effectively. As a result, the resources for this project encompass:\n",
    "<br>\n",
    "- **Personnel:** Artificial Intelligence/Machine Learning Engineer (myself).\n",
    "- **Resources:** Historical bike rental data, weather data, and calendar information.\n",
    "- **Requirements:** Ensure precise forecasting of bike rentals and deploy the model for operational use. Create a predictive model that achieves high accuracy in its forecasts.\n",
    "- **Assumptions:** The data reflects future trends; however, external factors like promotions and roadworks are not considered. Historical patterns are expected to persist without significant interruptions.\n",
    "- **Constraints:** Limited to historical data and available features; computational resources for training models.\n",
    "\n",
    "### 1.2.2 Risk and Contingencies\n",
    "Krishnan (2015) underscores the critical role of risk identification in machine learning projects. For this project, the following risks have been identified:\n",
    "- **Data Quality Issues:** Missing or inaccurate data can impact model performance. Mitigation includes data cleaning and validation steps.\n",
    "- **Model Overfitting:** Models might overfit training data and perform poorly on unseen data. Cross-validation and regularization techniques will be used.\n",
    "\n",
    "### 1.2.3 Cost and Benefit\n",
    "The financial feasibility and long-term viability of healthcare investments using a machine learning approach to panel regression have been assessed and shown to be a highly effective choice for ML projects (R & N, 2024). Consequently, the cost and benefits of this project are evaluated.\n",
    "<br>\n",
    "- **Cost:** Computational resources, data acquisition, and personnel time.\n",
    "- **Benefit:** Optimized bike distribution, improved stakeholder satisfaction, and operational efficiency.\n"
   ]
  },
  {
   "cell_type": "markdown",
   "id": "a7b1cf8f",
   "metadata": {},
   "source": [
    "## 1.3 Determine Machine Learning (ML) Goals"
   ]
  },
  {
   "cell_type": "markdown",
   "id": "01de3ca9",
   "metadata": {},
   "source": [
    "### 1.3.1 ML Goals\n",
    "I need to create models for daily predictions using Linear Regression, Random Forest, Gradient Boosting, and Support Vector Machine (SVM) algorithms to build and compare these models to predict bike rental demand. These models will be trained and evaluated for the daily bike rental demand predictions.\n",
    "\n",
    "### 1.3.2 ML Success Criteria\n",
    "Entities invest heavily in Big Data and Machine Learning (ML) projects, yet many of these projects are forecasted to fail (Supakkul et al., 2020). Therefore, it is crucial to define the ML success criteria before making investments and commitments. The main success criterion is to achieve the best Mean Absolute Error (MAE), R-squared as a Percentage, and Mean Absolute Percentage Error (MAPE),  demonstrating high predictive accuracy on the test data. Moreover, the selected model should be interpretable and offer actionable insights for operational decision-making.<br>\n",
    "\n",
    "### 1.4.1 Project Plan\n",
    "The CRISP-DM methodology, as detailed by Leaper (2024), will be implemented as follows:\n",
    "- **Business Understanding and Data Collection:** Gather data, comprehend features, and visualize relationships.\n",
    "- **Data Understanding:** Analyze the data to gain insights and identify patterns.\n",
    "- **Data Preparation:** Cleanse and preprocess the data, address missing values, and create relevant features.\n",
    "- **Modeling:** Choose suitable algorithms, divide the data, train models, and perform hyperparameter optimization.\n",
    "- **Evaluation:** Evaluate the model's performance using relevant metrics.\n",
    "- **Deployment:** Ready the model for deployment and review the lessons learned.\n",
    "\n",
    "### 1.4.2 Initial Assessment of Tools and Techniques\n",
    "- **Tools:** Google Colab Environment, Python (Scikit-learn, Statsmodels, TensorFlow, PyTorch, XGBoost, LightGBM, LibSVM, LIBLINEAR, SVM, GridSearch)\n",
    "- **Techniques:** Adopted the same steps for activities from stage 2 to stage 3. However, the tabular from Stage 4 follows unique patterns as required.\n",
    "\n"
   ]
  },
  {
   "cell_type": "markdown",
   "id": "20b7e7b7",
   "metadata": {},
   "source": [
    "# Stage 2. Data Understanding"
   ]
  },
  {
   "cell_type": "markdown",
   "id": "f6e301c2",
   "metadata": {},
   "source": [
    "## 2.1 Initial Data Acquisition\n",
    "The data for this project was obtained from the UCI Machine Learning Repository, specifically the Bike Sharing Dataset from a company known as Capital-Bikeshare15 in Washington D.C. This dataset comprises historical records of bike rentals, supplemented with weather and calendar information.\n",
    "\n",
    "<br>\n",
    "\n",
    "A challenge encountered was the absence of the dataset from the three data sources listed in the assessment document (Torrens University Australia, 2024), as illustrated in Figure 1.\n",
    "<br>\n",
    "To resolve this issue, I conducted a manual search for the dataset (Capital-Bikeshare15 Bike Sharing Dataset at UCI) using Google. After locating the data, I confirmed its authenticity and relevance with the learning facilitator and classmates. The dataset is accessible via the UCI Machine Learning Repository: [Bike Sharing Dataset](https://archive.ics.uci.edu/dataset/275/bike+sharing+dataset)\n",
    "<br>\n",
    "- The zipped file was named “bike+sharing+dataset”, unzipped, and the folder was renamed to “bike_sharing_dataset”. \n",
    "- The files contained are “day.csv”, “hour.csv” and \"Readme.txt\". \n",
    "- The directory for execution is: “bike_sharing_dataset/day.csv” and “bike_sharing_dataset/hour.csv”. \n",
    "- All required packages were imported before reading the files.\n",
    "<br><br>\n",
    "The data obtained includes historical records of bike rentals, weather conditions, user demographics, and rental durations, providing a comprehensive foundation for the analysis which is read as shown in Figure 2.\n",
    "\n",
    "<br>\n",
    "Since the daily dataset can help prevent bias and is more comprehensive, I’ll use it for the model creation to have the best daily predictions that can be enhanced to hourly in the future.\n",
    "\n"
   ]
  },
  {
   "cell_type": "markdown",
   "id": "46adc501",
   "metadata": {},
   "source": [
    "  - #### Kindly\n",
    "      - refer to each model (LinearRegression, RandomForest, GradientBooster, & SVM) for the coding with comments\n",
    "      - refer to the Project Report for description and explanation"
   ]
  },
  {
   "cell_type": "markdown",
   "id": "aa8ddd99",
   "metadata": {},
   "source": [
    "## 2.2 Data Description\n"
   ]
  },
  {
   "cell_type": "markdown",
   "id": "602e3fc3",
   "metadata": {},
   "source": [
    "  - #### Kindly\n",
    "      - refer to each model (LinearRegression, RandomForest, GradientBooster, & SVM) for the coding with comments\n",
    "      - refer to the Project Report for description and explanation"
   ]
  },
  {
   "cell_type": "markdown",
   "id": "d578072b",
   "metadata": {},
   "source": [
    "## 2.3 Verifying Data Quality"
   ]
  },
  {
   "cell_type": "markdown",
   "id": "3219deee",
   "metadata": {},
   "source": [
    "  - #### Kindly\n",
    "      - refer to each model (LinearRegression, RandomForest, GradientBooster, & SVM) for the coding with comments\n",
    "      - refer to the Project Report for description and explanation"
   ]
  },
  {
   "cell_type": "markdown",
   "id": "279948e2",
   "metadata": {},
   "source": [
    "### 2.3.2 Checking & Removing Outliers\n",
    "  - #### Kindly\n",
    "      - refer to each model (LinearRegression, RandomForest, GradientBooster, & SVM) for the coding with comments\n",
    "      - refer to the Project Report for description and explanation"
   ]
  },
  {
   "cell_type": "markdown",
   "id": "530bc532",
   "metadata": {},
   "source": [
    "### 2.3.3 Checking & Handling NaN Values\n",
    "  - #### Kindly\n",
    "      - refer to each model (LinearRegression, RandomForest, GradientBooster, & SVM) for the coding with comments\n",
    "      - refer to the Project Report for description and explanation"
   ]
  },
  {
   "cell_type": "markdown",
   "id": "c498d982",
   "metadata": {},
   "source": [
    "### 2.3.4 Checking & Handling Infinite Values\n",
    "  - #### Kindly\n",
    "      - refer to each model (LinearRegression, RandomForest, GradientBooster, & SVM) for the coding with comments\n",
    "      - refer to the Project Report for description and explanation"
   ]
  },
  {
   "cell_type": "markdown",
   "id": "bb1201ee",
   "metadata": {},
   "source": [
    "### 2.3.5 Randomize the Datasets\n",
    "  - #### Kindly\n",
    "      - refer to each model (LinearRegression, RandomForest, GradientBooster, & SVM) for the coding with comments\n",
    "      - refer to the Project Report for description and explanation"
   ]
  },
  {
   "cell_type": "markdown",
   "id": "2c0f8bf1",
   "metadata": {},
   "source": [
    "## 2.4  Data Exploration"
   ]
  },
  {
   "cell_type": "markdown",
   "id": "3be9df1e",
   "metadata": {},
   "source": [
    "### 2.4.1 Data Exploration Report\n",
    "Data exploration involves understanding the relationships between features and the target variable cnt. Conducting initial data exploration using querying, data visualization, and reporting techniques."
   ]
  },
  {
   "cell_type": "markdown",
   "id": "93793287",
   "metadata": {},
   "source": [
    "#### 2.4.1.1 Distributions\n",
    "  - #### Kindly\n",
    "      - refer to each model (LinearRegression, RandomForest, GradientBooster, & SVM) for the coding with comments\n",
    "      - refer to the Project Report for description and explanation"
   ]
  },
  {
   "cell_type": "markdown",
   "id": "f8399241",
   "metadata": {},
   "source": [
    "#### 2.4.1.2 Correlations\n",
    "  - #### Kindly\n",
    "      - refer to each model (LinearRegression, RandomForest, GradientBooster, & SVM) for the coding with comments\n",
    "      - refer to the Project Report for description and explanation"
   ]
  },
  {
   "cell_type": "markdown",
   "id": "86de2100",
   "metadata": {},
   "source": [
    "# Stage 3: Data Preparation"
   ]
  },
  {
   "cell_type": "markdown",
   "id": "cc235cec",
   "metadata": {},
   "source": [
    "## 3.1 Selecting Data"
   ]
  },
  {
   "cell_type": "markdown",
   "id": "1aba4912",
   "metadata": {},
   "source": [
    "### 3.1.1 Rationale for Inclusion/Exclusion\n",
    "  - #### Kindly\n",
    "      - refer to each model (LinearRegression, RandomForest, GradientBooster, & SVM) for the coding with comments\n",
    "      - refer to the Project Report for description and explanation"
   ]
  },
  {
   "cell_type": "markdown",
   "id": "740e57ac",
   "metadata": {},
   "source": [
    "## 3.2 Cleaning Data"
   ]
  },
  {
   "cell_type": "markdown",
   "id": "0670df03",
   "metadata": {},
   "source": [
    "### 3.2.1 Data Cleaning Report"
   ]
  },
  {
   "cell_type": "markdown",
   "id": "72978368",
   "metadata": {},
   "source": [
    "  - #### Kindly\n",
    "      - refer to each model (LinearRegression, RandomForest, GradientBooster, & SVM) for the coding with comments\n",
    "      - refer to the Project Report for description and explanation"
   ]
  },
  {
   "cell_type": "markdown",
   "id": "d8eb618f",
   "metadata": {},
   "source": [
    "## 3.3 Construct Data"
   ]
  },
  {
   "cell_type": "markdown",
   "id": "dfb142a4",
   "metadata": {},
   "source": [
    "### 3.3.1 Derived Features/Inputs\n",
    "\n",
    "  - #### Kindly\n",
    "      - refer to each model (LinearRegression, RandomForest, GradientBooster, & SVM) for the coding with comments\n",
    "      - refer to the Project Report for description and explanation"
   ]
  },
  {
   "cell_type": "markdown",
   "id": "6a77e7f4",
   "metadata": {},
   "source": [
    "### 3.3.2 Generated Targets/Outputs\n",
    "  - #### Kindly\n",
    "      - refer to each model (LinearRegression, RandomForest, GradientBooster, & SVM) for the coding with comments\n",
    "      - refer to the Project Report for description and explanation"
   ]
  },
  {
   "cell_type": "markdown",
   "id": "9ad02d7c",
   "metadata": {},
   "source": [
    "## 3.4 Integrating Data"
   ]
  },
  {
   "cell_type": "markdown",
   "id": "e0df154d",
   "metadata": {},
   "source": [
    "### 3.4.1 Merged Data\n",
    "  - #### Kindly\n",
    "      - refer to each model (LinearRegression, RandomForest, GradientBooster, & SVM) for the coding with comments\n",
    "      - refer to the Project Report for description and explanation"
   ]
  },
  {
   "cell_type": "markdown",
   "id": "c118380f",
   "metadata": {},
   "source": [
    "## 3.5 Formatting Data\n"
   ]
  },
  {
   "cell_type": "markdown",
   "id": "9174fde8",
   "metadata": {},
   "source": [
    "### 3.5.1 Reformatted Data\n",
    "  - #### Kindly\n",
    "      - refer to each model (LinearRegression, RandomForest, GradientBooster, & SVM) for the coding with comments\n",
    "      - refer to the Project Report for description and explanation"
   ]
  },
  {
   "cell_type": "markdown",
   "id": "d04ba2b6",
   "metadata": {},
   "source": [
    "# Stage 4: Modelling"
   ]
  },
  {
   "cell_type": "markdown",
   "id": "ab38b03f",
   "metadata": {},
   "source": [
    "## 4.1 Selecting Modelling Technique"
   ]
  },
  {
   "cell_type": "markdown",
   "id": "ed918ee2",
   "metadata": {},
   "source": [
    "### 4.1.1 Model Technique\n",
    "  - #### Kindly\n",
    "      - refer to each model (LinearRegression, RandomForest, GradientBooster, & SVM) for the coding with comments\n",
    "      - refer to the Project Report for description and explanation"
   ]
  },
  {
   "cell_type": "markdown",
   "id": "928ad6ca",
   "metadata": {},
   "source": [
    "### 4.1.2 Model Technique Assumptions\n",
    "  - #### Kindly\n",
    "      - refer to each model (LinearRegression, RandomForest, GradientBooster, & SVM) for the coding with comments\n",
    "      - refer to the Project Report for description and explanation"
   ]
  },
  {
   "cell_type": "markdown",
   "id": "f91c208e",
   "metadata": {},
   "source": [
    "## 4.2 Generating Test Design\n"
   ]
  },
  {
   "cell_type": "markdown",
   "id": "78c3492c",
   "metadata": {},
   "source": [
    "### 4.2.1 Test Design\n",
    "  - #### Kindly\n",
    "      - refer to each model (LinearRegression, RandomForest, GradientBooster, & SVM) for the coding with comments\n",
    "      - refer to the Project Report for description and explanation"
   ]
  },
  {
   "cell_type": "markdown",
   "id": "ad60da4c",
   "metadata": {},
   "source": [
    "## 4.3 Building Model Parameter Settings\n",
    "### 4.3.1 Train the Models\n",
    "\n",
    "- Initialize the Model:\n",
    "  - #### Kindly\n",
    "      - refer to each model (LinearRegression, RandomForest, GradientBooster, & SVM) for the coding with comments\n",
    "      - refer to the Project Report for description and explanation"
   ]
  },
  {
   "cell_type": "markdown",
   "id": "1d7bde97",
   "metadata": {},
   "source": [
    "### 4.3.2 Models Description\n",
    "  - #### Kindly\n",
    "      - refer to each model (LinearRegression, RandomForest, GradientBooster, & SVM) for the coding with comments\n",
    "      - refer to the Project Report for description and explanation"
   ]
  },
  {
   "cell_type": "markdown",
   "id": "130d405b",
   "metadata": {},
   "source": [
    "## 4.4 Assessing Model\n",
    "### 4.4.1 Model Assessment\n",
    "  - #### Kindly\n",
    "      - refer to each model (LinearRegression, RandomForest, GradientBooster, & SVM) for the coding with comments\n",
    "      - refer to the Project Report for description and explanation"
   ]
  },
  {
   "cell_type": "markdown",
   "id": "0f13c2e0",
   "metadata": {},
   "source": [
    "### 4.4.2 Revised Parameter - Hyperparameter Turning Level 1\n",
    "  - #### Kindly\n",
    "      - refer to each model (LinearRegression, RandomForest, GradientBooster, & SVM) for the coding with comments\n",
    "      - refer to the Project Report for description and explanation\n",
    "\n",
    "### 4.4.3 Revised Parameter - Hyperparameter Turning Level 2\n",
    "  - #### Kindly\n",
    "      - refer to each model (LinearRegression, RandomForest, GradientBooster, & SVM) for the coding with comments\n",
    "      - refer to the Project Report for description and explanation"
   ]
  },
  {
   "cell_type": "markdown",
   "id": "bab6e786",
   "metadata": {},
   "source": [
    "## 4.5 Model Comparison\n",
    "### 4.5.1 Comparing Models\n",
    "  - #### Kindly\n",
    "      - refer to each model (LinearRegression, RandomForest, GradientBooster, & SVM) for the coding with comments\n",
    "      - refer to the Project Report for description and explanation\n",
    "\n",
    "### 4.5.2 Model Evaluation\n",
    "  - #### Kindly\n",
    "      - refer to each model (LinearRegression, RandomForest, GradientBooster, & SVM) for the coding with comments\n",
    "      - refer to the Project Report for description and explanation\n"
   ]
  },
  {
   "cell_type": "markdown",
   "id": "6652b1b6",
   "metadata": {},
   "source": [
    "# Stage 5: Evaluation\n",
    "## 5.1 Evaluating Results\n",
    "### 5.1.1 Unseen Dataset Result\n",
    "  - #### Kindly\n",
    "      - refer to each model (LinearRegression, RandomForest, GradientBooster, & SVM) for the coding with comments\n",
    "      - refer to the Project Report for description and explanation\n",
    "      \n",
    "### 5.1.2 Model’s Metrics Accuracy (R-squared as a Percentage & Mean Absolute Percentage Error (MAPE))\n",
    "  - #### Kindly\n",
    "      - refer to each model (LinearRegression, RandomForest, GradientBooster, & SVM) for the coding with comments\n",
    "      - refer to the Project Report for description and explanation\n",
    "\n",
    "### 5.1.3 Does it align with the Business Success Criteria\n",
    "  - #### Kindly\n",
    "      - refer to each model (LinearRegression, RandomForest, GradientBooster, & SVM) for the coding with comments\n",
    "      - refer to the Project Report for description and explanation\n",
    "\n",
    "## 5.2 Approved Models\n",
    "### 5.2.1 Review Process\n",
    "The results from the holdout data show that the Gradient Boosting model is performing well on new, unseen data, with consistent and strong metrics. The slightly higher R² and lower MAE on the holdout set are positive signs that the model generalizes well and maintains accuracy when applied to data it hasn't seen before. The slight increase in MAPE is not a major concern, as the other metrics still indicate strong performance.\n",
    "<br>\n",
    "\n",
    "Overall, this suggests that your Gradient Boosting model is robust and well-suited for making predictions on new data.\n",
    "\n",
    "### 5.2.2 Export Model for Use (Save the model)\n",
    "Exported the model as “.pkl” for use. It can be implemented as an application or used by users via an Application Programming Interface (API).\n",
    "\n",
    "\n",
    "### 5.2.3 Test the Exported Model \n",
    "- Load the saved models\n",
    "- Tested prediction with the models\n",
    "\n",
    "\n",
    "## 5.3 Determining Next Steps\n",
    "### 5.3.1 List of Actions Required\n",
    "- Develop the web interface. \n",
    "- Integrate the interface with the selected model. \n",
    "- Deploy the website and model. \n",
    "- Monitor the model's performance. \n",
    "- Implement a maintenance plan.\n",
    "\n",
    "### 5.3.2 List of Possible Decisions\n",
    "- Move forward with deployment since the model meets the success criteria. \n",
    "- Return to the modeling stage if further enhancements are necessary.\n"
   ]
  },
  {
   "cell_type": "markdown",
   "id": "4160fc8a",
   "metadata": {},
   "source": [
    "# Stage 6: Deployment\n",
    "\n",
    "## 6.1 Create a Simple Website\n",
    "- Created the interface using HTML and CSS to serve as the user interface for the application.\n",
    "\n",
    "## 6.2 Link the Exported Model with the Website\n",
    "- Exported the models as “.pkl” files and stored them in the app directory under a folder named \"models\" for use within the application.\n",
    "\n",
    "## 6.3 Host the Website for Real-world Use\n",
    "- Set up a Flask app engine to capture users’ inputs, perform daily predictions, and return the prediction results.\n",
    "\n",
    "## 6.4 Test the Website/Model \n",
    "  - #### Kindly\n",
    "      - refer to each model (LinearRegression, RandomForest, GradientBooster, & SVM) for the coding with comments\n",
    "      - refer to the Project Report for description and explanation"
   ]
  },
  {
   "cell_type": "markdown",
   "id": "10343745",
   "metadata": {},
   "source": [
    "## 6.5 Azure Deployment & Lessons Learned\n",
    "### 6.5.1 Azure Deployment\n",
    "#### 6.1.1 Setup Azure Environment\n",
    "Deploying an AI model on Azure requires careful configuration, an active subscription, and practical use of JSON (Siddhardhan, 2024). The steps I followed to deploy the model are outlined below:\n",
    "- Create an Azure Account or Sign in:\n",
    "    - If you don't have an Azure account, create one at Azure at https://azure.microsoft.com/en-us/ or https://portal.azure.com/#home.\n",
    "- Create a Resource Group:\n",
    "    - In the Azure portal, navigate to \"Resource groups\" and click \"Create.\"\n",
    "    - Select your subscription, provide a name for the resource group (e.g., \"MLN601\"), and choose a region.\n",
    "    - Alternatively, you can name the resource group \"bikepredictor\" and select the appropriate region.\n",
    "\n",
    "### 6.5.2 Reflections\n",
    "\n",
    "**Challenges Encountered:** Acquiring the dataset was challenging, as discussed in Section 2 of this document. The limited time frame made it difficult to explore alternative options and develop a more refined application interface.\n",
    "<br>\n",
    "**Successes:** A significant amount of learning occurred through the implementation of models in real-world scenarios. I successfully transformed the model into a web application, which was both an impressive and rewarding experience.\n",
    "\n",
    "\n",
    "### 6.5.3 Recommendations\n",
    "#### Future Work: \n",
    "- **Enhance Model and Interface:** The model and interface should be designed to handle multiple predictions at once (can upload files as well), providing users with results and charts of the predicted demand.\n",
    "- **Geographic Flexibility:** The model should be adaptable to different locations, accounting for demand variations across regions.\n",
    "- **API Integration:** Implement the API in a real-world setting to assess how it interacts with other applications.\n",
    "- **Automated Data Fetching:** Integrate forecasts from external APIs to eliminate the need for manual data entry. Users should be able to select a location and date, with all other necessary features being automatically retrieved for prediction.\n",
    "- **User Data Tracking:** The app should track user inputs and responses, enabling enhancements and providing a personalized experience for future use.\n",
    "- **Hourly Prediction:** The updated version should be able to give a breakdown of hourly demand per day to ensure consistent business operations.\n"
   ]
  },
  {
   "cell_type": "markdown",
   "id": "fdacf152",
   "metadata": {},
   "source": [
    "# REFERENCES\n",
    "- Blomster, M., & Koivumäki, T. (2022). Exploring the resources, competencies, and capabilities needed for successful machine learning projects in digital marketing. Information Systems and E-Business Management, 20(1), 123–169. https://doi.org/10.1007/s10257-021-00547-y\n",
    "- Bokrantz, J., Subramaniyan, M., & Skoogh, A. (2023). Realising the promises of artificial intelligence in manufacturing by enhancing CRISP-DM. Production Planning & Control, 1–21. https://doi.org/10.1080/09537287.2023.2234882\n",
    "- El-Assi, W., Salah Mahmoud, M., & Nurul Habib, K. (2017). Effects of built environment and weather on bike sharing demand: a station level analysis of commercial bike sharing in Toronto. Transportation, 44(3), 589–613. https://doi.org/10.1007/s11116-015-9669-z\n",
    "- Hadi, F.-T. (2009). Bike Sharing. UCI Machine Learning Repository. https://doi.org/https://doi.org/10.24432/C5W894\n",
    "- Krishnan, V. (2015). Machine Learning Aided Efficient Tools for Risk Evaluation and Operational Planning of Multiple Contingencies. In A. T. (Ed.), Chaos Modeling and Control Systems Design (pp. 291–317). Springer. https://doi.org/10.1007/978-3-319-13132-0_12\n",
    "- Leaper, N. (2024, July 12). A Visual Guide to CRISP-DM Methodology. Design for Experiences Notes and Ideas for Experience Design.\n",
    "- R, M., & N, S. B. (2024). Healthcare Cost-Benefit Analysis Using Machine Learning: A Panel Data Modelling Approach. 2024 IEEE International Conference on Interdisciplinary Approaches in Technology and Management for Social Innovation (IATMSI), 1–6. https://doi.org/10.1109/IATMSI60426.2024.10502671\n",
    "- Siddhardhan. (2024, January 7). Deploying Machine Learning Model on Azure with Python | Step-by-Step Guide | ML - Azure Deployment [Video recording]. https://www.youtube.com/watch?v=VfTVIXiffBU\n",
    "- Studer, S., Binh, T. B., Drescher, C., Hanuschkin, A., Winkler, L., Peters, S., & Müller, K.-R. (2021). Towards CRISP-ML(Q): A Machine Learning Process Model with Quality Assurance Methodology. A Machine Learning Process Model with Quality Assurance.\n",
    "- Supakkul, S., Ahn, R., Junior, R. G., Villarreal, D., Zhao, L., Hill, T., & Chung, L. (2020). Validating Goal-Oriented Hypotheses of Business Problems Using Machine Learning: An Exploratory Study of Customer Churn (pp. 144–158). https://doi.org/10.1007/978-3-030-59612-5_11\n",
    "- Torrens University Australia. (2024). ASSESSMENT 3 BRIEF Subject Code and Title MLN 601 Machine Learning. https://mylearn.torrens.edu.au/courses/6815/assignments/89323\n",
    " \n"
   ]
  },
  {
   "cell_type": "code",
   "execution_count": null,
   "id": "620a2baf",
   "metadata": {},
   "outputs": [],
   "source": []
  }
 ],
 "metadata": {
  "kernelspec": {
   "display_name": "Python 3",
   "language": "python",
   "name": "python3"
  },
  "language_info": {
   "codemirror_mode": {
    "name": "ipython",
    "version": 3
   },
   "file_extension": ".py",
   "mimetype": "text/x-python",
   "name": "python",
   "nbconvert_exporter": "python",
   "pygments_lexer": "ipython3",
   "version": "3.6.13"
  }
 },
 "nbformat": 4,
 "nbformat_minor": 5
}
